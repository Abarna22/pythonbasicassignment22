{
 "cells": [
  {
   "cell_type": "code",
   "execution_count": 3,
   "id": "51438c09",
   "metadata": {},
   "outputs": [
    {
     "name": "stdout",
     "output_type": "stream",
     "text": [
      "Enter the starting range:1\n",
      "Enter the ending range:10\n",
      "Enter the dividing number:3\n",
      "[3, 6, 9]\n"
     ]
    }
   ],
   "source": [
    "#qp1\n",
    "\n",
    "def list_operation(l,n,nn):\n",
    "    nwl=[]\n",
    "    for i in range(l,n+1):\n",
    "        if i%nn==0:\n",
    "            nwl.append(i)\n",
    "    return nwl\n",
    "\n",
    "lst=int(input(\"Enter the starting range:\"))\n",
    "n=int(input(\"Enter the ending range:\"))\n",
    "\n",
    "n1=int(input(\"Enter the dividing number:\"))\n",
    "print(list_operation(lst,n,n1))\n",
    "    "
   ]
  },
  {
   "cell_type": "code",
   "execution_count": 2,
   "id": "4fe33b28",
   "metadata": {},
   "outputs": [
    {
     "name": "stdout",
     "output_type": "stream",
     "text": [
      "Enter the 1st list range:2\n",
      "Enter the 2nd list range:2\n",
      "1\n",
      "2\n",
      "[1, 2]\n",
      "5\n",
      "5\n",
      "[5, 5]\n",
      "False\n"
     ]
    }
   ],
   "source": [
    "#qp2\n",
    "\n",
    "def simon_says(list1,list2):\n",
    "    for i in list1:\n",
    "        for j in list2:\n",
    "            if list1[0]==list2[1]:\n",
    "                return True\n",
    "            else:\n",
    "                return False\n",
    "            \n",
    "n=int(input(\"Enter the 1st list range:\"))            \n",
    "n1=int(input(\"Enter the 2nd list range:\"))\n",
    "l1=[]\n",
    "l2=[]\n",
    "for i in range(0,n):\n",
    "    e=int(input())\n",
    "    l1.append(e)\n",
    "print(l1)\n",
    "for i in range(0,n1):\n",
    "    e=int(input())\n",
    "    l2.append(e)\n",
    "print(l2)\n",
    "\n",
    "print(simon_says(l1,l2))\n",
    "            "
   ]
  },
  {
   "cell_type": "code",
   "execution_count": 4,
   "id": "e5e89c4f",
   "metadata": {},
   "outputs": [
    {
     "name": "stdout",
     "output_type": "stream",
     "text": [
      "AMS\n"
     ]
    }
   ],
   "source": [
    "#qp3\n",
    "\n",
    "def society_name(s):\n",
    "    nwl=[]\n",
    "    for i in range(len(s)):\n",
    "        ns=s[i][0]\n",
    "        nwl.append(ns)\n",
    "\n",
    "    nwl.sort()\n",
    "    name=str(''.join(nwl))\n",
    "    print(name)\n",
    "\n",
    "society_name([\"Adam\", \"Sarah\",\"Malcolm\" ])"
   ]
  },
  {
   "cell_type": "code",
   "execution_count": 7,
   "id": "d76c4619",
   "metadata": {},
   "outputs": [
    {
     "data": {
      "text/plain": [
       "True"
      ]
     },
     "execution_count": 7,
     "metadata": {},
     "output_type": "execute_result"
    }
   ],
   "source": [
    "#qp4\n",
    "\n",
    "def is_isogram(s):\n",
    "    s1=s.lower()\n",
    "    if len(list(s))==len(set(s1)):\n",
    "        return True\n",
    "    else:\n",
    "        return False\n",
    "                \n",
    "is_isogram(\"Algorism\")\n",
    "        "
   ]
  },
  {
   "cell_type": "code",
   "execution_count": 13,
   "id": "9ee96477",
   "metadata": {},
   "outputs": [
    {
     "name": "stdout",
     "output_type": "stream",
     "text": [
      "True\n",
      "False\n",
      "True\n",
      "True\n"
     ]
    }
   ],
   "source": [
    "#qp5\n",
    "\n",
    "def is_in_order(s):\n",
    "    ls=[]\n",
    "    for i in s:\n",
    "        ls.append(i)\n",
    "    ls.sort()\n",
    "    nwl=\"\".join(ls)\n",
    "    if s==nwl:\n",
    "        print(\"True\")\n",
    "    else:\n",
    "        print(\"False\")\n",
    "\n",
    "is_in_order(\"abc\")\n",
    "is_in_order(\"edghkb\")\n",
    "is_in_order(\"123\")\n",
    "is_in_order(\"xyzz\")\n",
    "   "
   ]
  },
  {
   "cell_type": "code",
   "execution_count": null,
   "id": "1fa5373b",
   "metadata": {},
   "outputs": [],
   "source": []
  }
 ],
 "metadata": {
  "kernelspec": {
   "display_name": "Python 3 (ipykernel)",
   "language": "python",
   "name": "python3"
  },
  "language_info": {
   "codemirror_mode": {
    "name": "ipython",
    "version": 3
   },
   "file_extension": ".py",
   "mimetype": "text/x-python",
   "name": "python",
   "nbconvert_exporter": "python",
   "pygments_lexer": "ipython3",
   "version": "3.9.12"
  }
 },
 "nbformat": 4,
 "nbformat_minor": 5
}
